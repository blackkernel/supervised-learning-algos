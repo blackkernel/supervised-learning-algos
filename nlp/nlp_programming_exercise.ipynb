{
 "metadata": {
  "name": "",
  "signature": "sha256:0a45404f2a0666c9a92936cd13b1b5bf85c3081a638ab49eacc1d29ebc29b99e"
 },
 "nbformat": 3,
 "nbformat_minor": 0,
 "worksheets": [
  {
   "cells": [
    {
     "cell_type": "code",
     "collapsed": false,
     "input": [
      "'''\n",
      "Write a function `unpunctuate` that takes a string and removes all punctuation, e.g.\n",
      "unpunctuate(\"Hey there! How's it going?\")\n",
      "will output the following\n",
      "\"Hey there Hows it going\"\n",
      "'''\n",
      "from collections import defaultdict\n",
      "import re\n",
      "DELIMITERS = \",!:.?'\"\n",
      "regex_punctuations=  \"[\" + re.escape(DELIMITERS) + \"*]\"\n",
      "compiled_regex_punctuations = re.compile(regex_punctuations) # makes re.sub much faster\n",
      "\n",
      "def unpunctuate(text):\n",
      "    clean_text = re.sub(compiled_regex_punctuations, '', text)\n",
      "    return clean_text.lower()\n",
      "    \n",
      "print unpunctuate(\"Hey there! How's it going???.\")"
     ],
     "language": "python",
     "metadata": {},
     "outputs": [
      {
       "output_type": "stream",
       "stream": "stdout",
       "text": [
        "hey there hows it going\n"
       ]
      }
     ],
     "prompt_number": 46
    },
    {
     "cell_type": "code",
     "collapsed": false,
     "input": [
      "'''\n",
      "Write a function `get_bag_of_words_for_single_document` that, given any strings (also called documents), e.g. \"John also likes to watch football games.\", returns its bag of words:\n",
      "\n",
      "get_bag_of_words_for_single_document(\"John also likes to watch football games.\")\n",
      "\n",
      "# outputs the following. Hint: it doesn't have to be a dictionary exactly but could be an object that acts like a dictionary.\n",
      "{\n",
      "    'games.': 1,\n",
      "    'to': 1,\n",
      "    'football': 1,\n",
      "    'watch': 1,\n",
      "    'also': 1,\n",
      "    'likes': 1,\n",
      "    'John': 1\n",
      "}\n",
      "'''\n",
      "\n",
      "def get_bag_of_words_for_single_document(doc):\n",
      "    new_doc = unpunctuate(doc)\n",
      "    l = new_doc.split(\" \")\n",
      "    bag = defaultdict(int)\n",
      "    for word in l:\n",
      "        bag[word] += 1\n",
      "    return bag\n",
      "        \n",
      "\n",
      "print get_bag_of_words_for_single_document(\"John also likes to watch football games games.\")"
     ],
     "language": "python",
     "metadata": {},
     "outputs": [
      {
       "output_type": "stream",
       "stream": "stdout",
       "text": [
        "defaultdict(<type 'int'>, {'to': 1, 'football': 1, 'watch': 1, 'also': 1, 'games': 2, 'likes': 1, 'john': 1})\n"
       ]
      }
     ],
     "prompt_number": 14
    },
    {
     "cell_type": "code",
     "collapsed": false,
     "input": [
      "'''\n",
      "Write a function `get_bag_of_words` that uses the above function to achieve the following: \n",
      "given a list of strings, it returns the total bag of words\n",
      "for all of the documents.\n",
      "\n",
      "get_bag_of_words([\n",
      "    \"John likes to watch movies. Mary likes movies too.\",\n",
      "    \"John also likes to watch football games.\",\n",
      "])\n",
      "\n",
      "# ouputs the following:\n",
      "{\n",
      "    \"John\": 1,\n",
      "    \"likes\": 2,\n",
      "    \"to\": 3,\n",
      "    \"watch\": 4,\n",
      "    \"movies\": 5,\n",
      "    \"also\": 6,\n",
      "    \"football\": 7,\n",
      "    \"games\": 8,\n",
      "    \"Mary\": 9,\n",
      "    \"too\": 10\n",
      "}\n",
      "'''\n",
      "\n",
      "def get_bag_of_words(doc_list):\n",
      "    total_bag = defaultdict(int)\n",
      "    for doc in doc_list:\n",
      "        single_bag = get_bag_of_words_for_single_document(doc)\n",
      "        for word in single_bag:\n",
      "            total_bag[word] += single_bag[word] \n",
      "    return total_bag\n",
      "\n",
      "print get_bag_of_words([\n",
      "    \"John likes to watch movies. Mary likes movies too.\",\n",
      "    \"John also likes to watch football games. And pandas\",\n",
      "    \"John also likes to code in pandas.\",\n",
      "    \"pandas\"\n",
      "])\n"
     ],
     "language": "python",
     "metadata": {},
     "outputs": [
      {
       "output_type": "stream",
       "stream": "stdout",
       "text": [
        "defaultdict(<type 'int'>, {'and': 1, 'also': 2, 'code': 1, 'to': 3, 'football': 1, 'watch': 2, 'pandas': 3, 'movies': 2, 'games': 1, 'likes': 4, 'in': 1, 'john': 3, 'mary': 1, 'too': 1})\n"
       ]
      }
     ],
     "prompt_number": 15
    },
    {
     "cell_type": "code",
     "collapsed": false,
     "input": [
      "'''\n",
      "Given a bag of words for all of the documents in our data set, write a function `turn_words_into_indices`\n",
      "take the keys in the bag of words and alphabetize them,\n",
      "\n",
      "e.g.\n",
      "bag_of_words_data = {\n",
      "    \"John\": 1,\n",
      "    \"likes\": 2,\n",
      "    \"to\": 3,\n",
      "    \"watch\": 4,\n",
      "    \"movies\": 5,\n",
      "    \"also\": 6,\n",
      "    \"football\": 7,\n",
      "    \"games\": 8,\n",
      "    \"Mary\": 9,\n",
      "    \"too\": 10\n",
      "}\n",
      "\n",
      "turn_words_into_indices(bag_of_words_data)\n",
      "\n",
      "# outputs the following:\n",
      "[\"also\", \"football\", \"games\", \"John\", \"likes\", \"Mary\", \"movies\", \"to\", \"too\", \"watch\"]\n",
      "'''\n",
      "\n",
      "def turn_words_into_indices(bag):\n",
      "    indices = sorted([key for key in bag.keys()], key=str.lower)\n",
      "    return indices\n",
      "\n",
      "bag_of_words_data = {\n",
      "    \"John\": 1,\n",
      "    \"likes\": 2,\n",
      "    \"to\": 3,\n",
      "    \"watch\": 4,\n",
      "    \"movies\": 5,\n",
      "    \"also\": 6,\n",
      "    \"football\": 7,\n",
      "    \"games\": 8,\n",
      "    \"Mary\": 9,\n",
      "    \"too\": 10\n",
      "}\n",
      "\n",
      "print turn_words_into_indices(bag_of_words_data)\n"
     ],
     "language": "python",
     "metadata": {},
     "outputs": [
      {
       "output_type": "stream",
       "stream": "stdout",
       "text": [
        "['also', 'football', 'games', 'John', 'likes', 'Mary', 'movies', 'to', 'too', 'watch']\n"
       ]
      }
     ],
     "prompt_number": 32
    },
    {
     "cell_type": "code",
     "collapsed": false,
     "input": [
      "'''\n",
      "Given a document, write a function `vectorize` that turns the document into a list (also will be called a vector)\n",
      "the same length as the number of keys of bag of words where for each index of the list will be 1 only if the word\n",
      "at that index in the word list is contained in the document and 0 otherwise.\n",
      "\n",
      "e.g.\n",
      "Given this word list: [\"also\", \"football\", \"games\", \"John\", \"likes\", \"Mary\", \"movies\", \"to\", \"too\", \"watch\"]\n",
      "Given this document: \"The sun also rises\"\n",
      "vectorize(\"The sun also rises. Let's go to the movies\")\n",
      "# Since it contains 'also', 'to' and 'movies, the vectorize call will output the following\n",
      "[1, 0, 0, 0, 0, 0, 1, 1, 0, 0]\n",
      "'''\n",
      "def vectorize_document_for_bag(doc, bag):\n",
      "    doc_dict = defaultdict(int)\n",
      "    for word in doc.split():\n",
      "        doc_dict[word] += 1\n",
      "    vector = [ 1 if doc_dict[word] > 0 else 0 for word in bag  ]\n",
      "    return vector\n",
      "\n",
      "\n",
      "vectorize_document_for_bag(\"The sun also rises. Let's go to the movies\", [\"also\", \"football\", \"games\", \"John\", \"likes\", \"Mary\", \"movies\", \"to\", \"too\", \"watch\"])"
     ],
     "language": "python",
     "metadata": {},
     "outputs": [
      {
       "metadata": {},
       "output_type": "pyout",
       "prompt_number": 45,
       "text": [
        "[1, 0, 0, 0, 0, 0, 1, 1, 0, 0]"
       ]
      }
     ],
     "prompt_number": 45
    },
    {
     "cell_type": "code",
     "collapsed": false,
     "input": [],
     "language": "python",
     "metadata": {},
     "outputs": []
    }
   ],
   "metadata": {}
  }
 ]
}